{
 "cells": [
  {
   "cell_type": "markdown",
   "id": "7741fe39",
   "metadata": {},
   "source": [
    "# Iteradores e Geradores\n",
    "\n",
    "__Iteráveis__ são objetos que podem retornar um de seus elementos por vez, como uma _lista_. Muitas das funções built-in que usamos, como `enumerate`, retornam um iterador.\n",
    "\n",
    "Um __iterador__ é um objeto que representa um fluxo de dados. É diferente de uma lista, que também é um iterável, mas não é um iterador pois não é um fluxo de dados.\n",
    "\n",
    "__Geradores__ são uma maneira simples de _criar iteradores usando funções_. Você também pode definir iteradores usando classes, sobre o qual você pode ler mais [aqui](https://docs.python.org/3/tutorial/classes.html#iterators).\n",
    "\n",
    "Aqui está um exemplo de uma função geradora chamada `my_range`, que produz um iterador que é um fluxo de números de 0 a (x - 1)."
   ]
  },
  {
   "cell_type": "code",
   "execution_count": 2,
   "id": "bd9d0838",
   "metadata": {},
   "outputs": [],
   "source": [
    "def my_range(x):\n",
    "    for i in range(x):\n",
    "        yield i"
   ]
  },
  {
   "cell_type": "markdown",
   "id": "d488145a",
   "metadata": {},
   "source": [
    "Observe que, em vez de usar a palavra-chave \"return\", ele usa \"yield\". Isso permite que a função retorne valores um por vez e comece de onde parou cada vez que é chamada. A palavra-chave \"yield\" é o que diferencia um gerador de uma função típica.\n",
    "\n",
    "Lembre-se, uma vez que isso retorna um iterador, podemos convertê-lo em uma lista ou iterar através dele em um loop para ver seu conteúdo. Por exemplo, este código:"
   ]
  },
  {
   "cell_type": "code",
   "execution_count": 3,
   "id": "92428e7a",
   "metadata": {},
   "outputs": [
    {
     "name": "stdout",
     "output_type": "stream",
     "text": [
      "0\n",
      "1\n",
      "2\n",
      "3\n",
      "4\n"
     ]
    }
   ],
   "source": [
    "for x in my_range(5):\n",
    "    print(x)"
   ]
  },
  {
   "cell_type": "markdown",
   "id": "daff55cc",
   "metadata": {},
   "source": [
    "> Geradores são uma maneira preguiçosa de construir iterações. Eles são úteis quando a lista completamente realizada não caberia na memória ou quando o custo para calcular cada elemento da lista é alto e você deseja fazê-lo o mais tarde possível. Mas eles só podem ser iterados uma vez.\n",
    "\n",
    "- __Quiz: Implemente `my_enumerate`__\n",
    "\n",
    "Escreva seu próprio gerador que funcione como a função built-in `enumerate`.\n",
    "\n",
    "Chamando a função dessa forma:"
   ]
  },
  {
   "cell_type": "raw",
   "id": "fa4af962",
   "metadata": {},
   "source": [
    "lessons = [\"Why Python Programming\", \"Data Types and Operators\", \"Control Flow\", \"Functions\", \"Scripting\"]\n",
    "\n",
    "for i, lesson in my_enumerate(lessons, 1):\n",
    "    print(\"Lesson {}: {}\".format(i, lesson))"
   ]
  },
  {
   "cell_type": "markdown",
   "id": "e5d474e9",
   "metadata": {},
   "source": [
    "A saída deve ser:"
   ]
  },
  {
   "cell_type": "raw",
   "id": "f1b03f85",
   "metadata": {},
   "source": [
    "Lesson 1: Why Python Programming\n",
    "Lesson 2: Data Types and Operators\n",
    "Lesson 3: Control Flow\n",
    "Lesson 4: Functions\n",
    "Lesson 5: Scripting"
   ]
  },
  {
   "cell_type": "code",
   "execution_count": 5,
   "id": "18876181",
   "metadata": {},
   "outputs": [
    {
     "name": "stdout",
     "output_type": "stream",
     "text": [
      "Lesson 1: Why Python Programming\n",
      "Lesson 2: Data Types and Operators\n",
      "Lesson 3: Control Flow\n",
      "Lesson 4: Functions\n",
      "Lesson 5: Scripting\n"
     ]
    }
   ],
   "source": [
    "lessons = [\"Why Python Programming\", \"Data Types and Operators\", \"Control Flow\", \"Functions\", \"Scripting\"]\n",
    "\n",
    "def my_enumerate(iterable, start=0):\n",
    "    count = start\n",
    "    for element in iterable:\n",
    "        yield count, element\n",
    "        count += 1\n",
    "\n",
    "for i, lesson in my_enumerate(lessons, 1):\n",
    "    print(\"Lesson {}: {}\".format(i, lesson))"
   ]
  },
  {
   "cell_type": "markdown",
   "id": "f31a5177",
   "metadata": {},
   "source": [
    "- __Quiz: Pedaço__\n",
    "\n",
    "Se você tem um iterável que é muito grande para caber na memória por completo (por exemplo, ao lidar com grandes arquivos), poder pegar e usar pedaços dele de uma só vez pode ser muito valioso.\n",
    "\n",
    "Implemente uma função geradora, __chunker__, que recebe um iterável e rende um pedaço de um tamanho especificado de cada vez.\n",
    "\n",
    "Chamando a função assim:"
   ]
  },
  {
   "cell_type": "raw",
   "id": "1cf6028b",
   "metadata": {},
   "source": [
    "for chunk in chunker(range(25), 4):\n",
    "    print(list(chunk))"
   ]
  },
  {
   "cell_type": "markdown",
   "id": "77b70bec",
   "metadata": {},
   "source": [
    "A saída deve ser:"
   ]
  },
  {
   "cell_type": "raw",
   "id": "1186e2ec",
   "metadata": {},
   "source": [
    "[0, 1, 2, 3]\n",
    "[4, 5, 6, 7]\n",
    "[8, 9, 10, 11]\n",
    "[12, 13, 14, 15]\n",
    "[16, 17, 18, 19]\n",
    "[20, 21, 22, 23]\n",
    "[24]"
   ]
  },
  {
   "cell_type": "code",
   "execution_count": 9,
   "id": "79684637",
   "metadata": {},
   "outputs": [
    {
     "name": "stdout",
     "output_type": "stream",
     "text": [
      "[0, 1, 2, 3]\n",
      "[4, 5, 6, 7]\n",
      "[8, 9, 10, 11]\n",
      "[12, 13, 14, 15]\n",
      "[16, 17, 18, 19]\n",
      "[20, 21, 22, 23]\n",
      "[24]\n"
     ]
    }
   ],
   "source": [
    "def chunker(iterador, fatiamento):\n",
    "    for i in range(0, len(iterador), fatiamento):\n",
    "        yield iterador[i:i + fatiamento]\n",
    "        \n",
    "for chunk in chunker(range(25), 4):\n",
    "    print(list(chunk))"
   ]
  },
  {
   "cell_type": "markdown",
   "id": "34b48f5a",
   "metadata": {},
   "source": [
    "### Expressões Geradoras\n",
    "\n",
    "Aqui está um conceito legal que combina geradores e `list comprehensions`! Na verdade, você pode criar um gerador da mesma maneira que normalmente escreveria uma lista de compreensão, exceto com parênteses em vez de colchetes. Por exemplo:"
   ]
  },
  {
   "cell_type": "code",
   "execution_count": 13,
   "id": "d451cc82",
   "metadata": {},
   "outputs": [
    {
     "name": "stdout",
     "output_type": "stream",
     "text": [
      "[0, 1, 4, 9, 16, 25, 36, 49, 64, 81]\n"
     ]
    }
   ],
   "source": [
    "sq_list = [x**2 for x in range(10)]  # isso produz uma lista de quadrados\n",
    "\n",
    "sq_iterator = (x**2 for x in range(10))  # isso produz um iterador de quadrados\n",
    "print(list(sq_iterator))"
   ]
  },
  {
   "cell_type": "markdown",
   "id": "c140df59",
   "metadata": {},
   "source": [
    "Isso pode ajudar você a economizar tempo e criar um código eficiente!"
   ]
  }
 ],
 "metadata": {
  "kernelspec": {
   "display_name": "Python 3 (ipykernel)",
   "language": "python",
   "name": "python3"
  },
  "language_info": {
   "codemirror_mode": {
    "name": "ipython",
    "version": 3
   },
   "file_extension": ".py",
   "mimetype": "text/x-python",
   "name": "python",
   "nbconvert_exporter": "python",
   "pygments_lexer": "ipython3",
   "version": "3.9.13"
  }
 },
 "nbformat": 4,
 "nbformat_minor": 5
}
