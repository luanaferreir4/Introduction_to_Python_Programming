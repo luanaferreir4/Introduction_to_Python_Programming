{
 "cells": [
  {
   "cell_type": "markdown",
   "id": "09c19d0a-f7d7-4ebf-b6b4-bffb0e31fe1d",
   "metadata": {
    "tags": []
   },
   "source": [
    "# Estruturas de Dados\n",
    "Nesse módulo você vai aprender a agrupar diferentes tipos de dados que aprendeu anteriormente nas *Estruturas de Dados*.\n",
    "- **Tipos de Estruturas de Dados:** Lists, Tuples, Sets, Dictionaries.\n",
    "<br>Junto com:<br>\n",
    "- **Operadores**: Membership, Identity.\n",
    "- **Funções Built-In ou Métodos.**"
   ]
  },
  {
   "cell_type": "markdown",
   "id": "e8208cd9-f76e-4d33-9323-b9d76a1b3d2b",
   "metadata": {},
   "source": [
    "## Listas"
   ]
  },
  {
   "cell_type": "markdown",
   "id": "a9a1d3e1-bec8-41bb-9122-3fd694f48b6e",
   "metadata": {},
   "source": [
    "### Listas e Operadores de Associação\n",
    "- **List:** um tipo de dados para sequências ordenadas mutáveis de elementos."
   ]
  },
  {
   "cell_type": "code",
   "execution_count": 11,
   "id": "7e68e0c6-16e1-4bba-bf68-722aa4e5aaf6",
   "metadata": {},
   "outputs": [
    {
     "name": "stdout",
     "output_type": "stream",
     "text": [
      "12\n",
      "Janeiro\n",
      "Fevereiro\n",
      "Agosto\n",
      "Dezembro\n"
     ]
    },
    {
     "ename": "IndexError",
     "evalue": "list index out of range",
     "output_type": "error",
     "traceback": [
      "\u001b[1;31m---------------------------------------------------------------------------\u001b[0m",
      "\u001b[1;31mIndexError\u001b[0m                                Traceback (most recent call last)",
      "Cell \u001b[1;32mIn[11], line 7\u001b[0m\n\u001b[0;32m      5\u001b[0m \u001b[38;5;28mprint\u001b[39m(meses[\u001b[38;5;241m7\u001b[39m])\n\u001b[0;32m      6\u001b[0m \u001b[38;5;28mprint\u001b[39m(meses[\u001b[38;5;241m-\u001b[39m\u001b[38;5;241m1\u001b[39m]) \u001b[38;5;66;03m# fim da lista.\u001b[39;00m\n\u001b[1;32m----> 7\u001b[0m \u001b[38;5;28mprint\u001b[39m(\u001b[43mmeses\u001b[49m\u001b[43m[\u001b[49m\u001b[38;5;241;43m24\u001b[39;49m\u001b[43m]\u001b[49m) \u001b[38;5;66;03m# IndexError: list index out of range \u001b[39;00m\n",
      "\u001b[1;31mIndexError\u001b[0m: list index out of range"
     ]
    }
   ],
   "source": [
    "meses = ['Janeiro', 'Fevereiro', 'Março', 'Abril', 'Maio', 'Junho', 'Julho', 'Agosto', 'Setembro', 'Outubro', 'Novembro', 'Dezembro']\n",
    "print(len(meses))\n",
    "print(meses[0])\n",
    "print(meses[1])\n",
    "print(meses[7])\n",
    "print(meses[-1]) # fim da lista.\n",
    "print(meses[24]) # IndexError: list index out of range "
   ]
  },
  {
   "cell_type": "markdown",
   "id": "2e2bcb68-bbd2-47d7-a357-a94759ba5a50",
   "metadata": {},
   "source": [
    "**Estruturas de Dados** são containers que se organizam e se agrupam de diferentes formas. Uma lista está entre as mais comuns e básicas estruturas de dados em python.\n",
    "\n",
    "Aqui você vê que você pode criar uma lista com colchetes. Listas podem conter qualquer mistura e combinação de tipos de dados que você viu até agora."
   ]
  },
  {
   "cell_type": "code",
   "execution_count": 1,
   "id": "1da975c7-aada-4d60-bb00-57a27140986e",
   "metadata": {},
   "outputs": [],
   "source": [
    "lista_de_coisas_aleatorias = [1, 3.4, 'uma string', True]"
   ]
  },
  {
   "cell_type": "markdown",
   "id": "3c889371-1a64-45c6-8247-88bc3babcc74",
   "metadata": {},
   "source": [
    "Essa é uma lista de 4 elementos. Todos os containers ordenados (como listas) são indexados em python usando um índice inicial de 0. Portanto, para extrair o primeiro valor da lista acima, podemos escrever:"
   ]
  },
  {
   "cell_type": "code",
   "execution_count": 2,
   "id": "ad2adcb7-41c7-4dc0-a113-363f50dcc06b",
   "metadata": {},
   "outputs": [
    {
     "data": {
      "text/plain": [
       "1"
      ]
     },
     "execution_count": 2,
     "metadata": {},
     "output_type": "execute_result"
    }
   ],
   "source": [
    "lista_de_coisas_aleatorias[0]"
   ]
  },
  {
   "cell_type": "markdown",
   "id": "4e693765-be79-466d-94de-43d795d9a31d",
   "metadata": {},
   "source": [
    "Talvez pareça que você pode puxar o último elemento com o seguinte código, mas na verdade ele não vai funcionar:"
   ]
  },
  {
   "cell_type": "code",
   "execution_count": 4,
   "id": "07e6ca10-ad5b-4556-a967-5ee0d4ebffc6",
   "metadata": {},
   "outputs": [
    {
     "ename": "IndexError",
     "evalue": "list index out of range",
     "output_type": "error",
     "traceback": [
      "\u001b[1;31m---------------------------------------------------------------------------\u001b[0m",
      "\u001b[1;31mIndexError\u001b[0m                                Traceback (most recent call last)",
      "Cell \u001b[1;32mIn[4], line 1\u001b[0m\n\u001b[1;32m----> 1\u001b[0m \u001b[43mlista_de_coisas_aleatorias\u001b[49m\u001b[43m[\u001b[49m\u001b[38;5;28;43mlen\u001b[39;49m\u001b[43m(\u001b[49m\u001b[43mlista_de_coisas_aleatorias\u001b[49m\u001b[43m)\u001b[49m\u001b[43m]\u001b[49m \n",
      "\u001b[1;31mIndexError\u001b[0m: list index out of range"
     ]
    }
   ],
   "source": [
    "lista_de_coisas_aleatorias[len(lista_de_coisas_aleatorias)] "
   ]
  },
  {
   "cell_type": "markdown",
   "id": "781f5f80-191c-4bdd-8f59-c0e8d6b41154",
   "metadata": {},
   "source": [
    "No entanto, você pode recuperar o último elemento reduzindo o índice em 1. Portanto, você pode fazer o seguinte:"
   ]
  },
  {
   "cell_type": "code",
   "execution_count": 9,
   "id": "b8ff94d4-15b2-49db-8d3b-1fbf5675f68a",
   "metadata": {},
   "outputs": [
    {
     "data": {
      "text/plain": [
       "True"
      ]
     },
     "execution_count": 9,
     "metadata": {},
     "output_type": "execute_result"
    }
   ],
   "source": [
    "lista_de_coisas_aleatorias[len(lista_de_coisas_aleatorias) - 1] # é como se fosse lista_de_coisas_aleatorias[3]"
   ]
  },
  {
   "cell_type": "code",
   "execution_count": 10,
   "id": "320b1aba-e136-42ed-bfe1-3630d66d9278",
   "metadata": {},
   "outputs": [
    {
     "data": {
      "text/plain": [
       "True"
      ]
     },
     "execution_count": 10,
     "metadata": {},
     "output_type": "execute_result"
    }
   ],
   "source": [
    "lista_de_coisas_aleatorias[3]"
   ]
  },
  {
   "cell_type": "markdown",
   "id": "c4783264-2dd1-4eab-ba01-fbec7c861e1d",
   "metadata": {},
   "source": [
    "Alternativamente, você pode indexar a partir do final de uma lista usando valores negativos, onde -1 é o último elemento, -2 é o penúltimo elemento e assim por diante."
   ]
  },
  {
   "cell_type": "code",
   "execution_count": 11,
   "id": "5907c1dd-de88-4068-92b2-d75cf04cfe91",
   "metadata": {},
   "outputs": [
    {
     "name": "stdout",
     "output_type": "stream",
     "text": [
      "True\n",
      "uma string\n"
     ]
    }
   ],
   "source": [
    "print(lista_de_coisas_aleatorias[-1])\n",
    "print(lista_de_coisas_aleatorias[-2])"
   ]
  },
  {
   "cell_type": "markdown",
   "id": "dbe1d745-ee83-4d0f-ba24-aa8126d9a3c2",
   "metadata": {},
   "source": [
    "### Listas e Operadores de Associação - II\n",
    "- **Slicing Notation**"
   ]
  },
  {
   "cell_type": "raw",
   "id": "418fbb19-512c-4c3b-8354-8553898c7659",
   "metadata": {},
   "source": [
    "import math\n",
    "quarter_3 = math.floor(len(lista_de_coisas_aleatorias) -1 / 3)\n",
    "print(quarter_3)\n",
    "print(lista_de_coisas_aleatorias[quarter_3:])"
   ]
  },
  {
   "cell_type": "raw",
   "id": "c8ff55b6-1889-4b82-88fd-7bb2492808d2",
   "metadata": {},
   "source": [
    "meses = ['Janeiro', 'Fevereiro', 'Março', 'Abril', 'Maio', 'Junho', 'Julho', 'Agosto', 'Setembro', 'Outubro', 'Novembro', 'Dezembro']\n",
    "tres_quartos = round((len(meses) - 1) / 4)\n",
    "print(meses[-tres_quartos:])"
   ]
  },
  {
   "cell_type": "code",
   "execution_count": 48,
   "id": "8ea96dc7-81d6-4612-a513-0adb1ddccd4d",
   "metadata": {},
   "outputs": [
    {
     "name": "stdout",
     "output_type": "stream",
     "text": [
      "['Julho', 'Agosto', 'Setembro']\n"
     ]
    }
   ],
   "source": [
    "q3 = meses[6:9] # começa no indice 6 e termina no 8.\n",
    "print(q3)"
   ]
  },
  {
   "cell_type": "code",
   "execution_count": 52,
   "id": "00b1f7f2-5126-45c7-afd9-440b81ff499c",
   "metadata": {},
   "outputs": [
    {
     "name": "stdout",
     "output_type": "stream",
     "text": [
      "['Janeiro', 'Fevereiro', 'Março', 'Abril', 'Maio', 'Junho']\n",
      "['Julho', 'Agosto', 'Setembro', 'Outubro', 'Novembro', 'Dezembro']\n"
     ]
    }
   ],
   "source": [
    "primeira_metade = meses[:6]\n",
    "print(primeira_metade)\n",
    "segunda_metade = meses[6:]\n",
    "print(segunda_metade)"
   ]
  },
  {
   "cell_type": "markdown",
   "id": "a5a2cff9-28c6-4fad-a9f7-f9dd4af3c1ba",
   "metadata": {},
   "source": [
    "___Listas são mais similares as Strings___ pois ambos tipos podem utilizar `len()`, procura por índice (`indexing`) e `slicing`"
   ]
  },
  {
   "cell_type": "code",
   "execution_count": 56,
   "id": "0bceb266-f804-47f6-94c4-8e957ca546f4",
   "metadata": {},
   "outputs": [
    {
     "name": "stdout",
     "output_type": "stream",
     "text": [
      "30\n",
      "s\n"
     ]
    },
    {
     "data": {
      "text/plain": [
       "'slicing em strings.'"
      ]
     },
     "execution_count": 56,
     "metadata": {},
     "output_type": "execute_result"
    }
   ],
   "source": [
    "string = 'Utilizando slicing em strings.'\n",
    "print(len(string))\n",
    "print(string[11])\n",
    "string[11:]"
   ]
  },
  {
   "cell_type": "markdown",
   "id": "17485286-13f7-4bda-92fd-82b0ad55231e",
   "metadata": {},
   "source": [
    "#### Operadores de Associação - `in` e `not in` \n",
    "- `in` = avalia se o objeto no lado esquerdo está incluso no objeto do lado direito.\n",
    "- `not in` = avalia se o objeto no lado esquerdo não está incluso no objeto do lado direito."
   ]
  },
  {
   "cell_type": "code",
   "execution_count": 60,
   "id": "6254c34d-def5-4211-828e-be62f01ab357",
   "metadata": {},
   "outputs": [
    {
     "name": "stdout",
     "output_type": "stream",
     "text": [
      "True\n",
      "True\n"
     ]
    }
   ],
   "source": [
    "string = \"Utilizando slicing em strings.\"\n",
    "print(\"slicing\" in string)\n",
    "print(\"stra\" not in string)"
   ]
  },
  {
   "cell_type": "code",
   "execution_count": 61,
   "id": "c572814f-cdc8-411c-a4d4-539e4242689d",
   "metadata": {},
   "outputs": [
    {
     "name": "stdout",
     "output_type": "stream",
     "text": [
      "True False\n"
     ]
    }
   ],
   "source": [
    "greeting = 'Hello there'\n",
    "print('her' in greeting, 'her' not in greeting)"
   ]
  },
  {
   "cell_type": "code",
   "execution_count": 64,
   "id": "33e3d3e3-6b02-4734-a8a8-f3cadc9ff707",
   "metadata": {},
   "outputs": [
    {
     "name": "stdout",
     "output_type": "stream",
     "text": [
      "12\n",
      "False True\n"
     ]
    }
   ],
   "source": [
    "meses = ['Janeiro', 'Fevereiro', 'Março', 'Abril', 'Maio', 'Junho',\n",
    "         'Julho', 'Agosto', 'Setembro', 'Outubro','Novembro', 'Dezembro']\n",
    "print(len(meses))\n",
    "print('Domingo' in meses, 'Domingo' not in meses)"
   ]
  },
  {
   "cell_type": "markdown",
   "id": "d5da1c8a-b8fb-46e7-abde-3ebcc55f97f4",
   "metadata": {},
   "source": [
    "**Você está `in` OU `not in`?**\n",
    "\n",
    "Você viu que nós podemos também usar `in` e `not in` para retornar um valor booleano (True ou False) se um elemento existe ou não dentro da nossa lista, ou se uma string é uma substring de outra."
   ]
  },
  {
   "cell_type": "code",
   "execution_count": 65,
   "id": "354ab7a5-5331-415d-88fe-da2fc119af19",
   "metadata": {},
   "outputs": [
    {
     "data": {
      "text/plain": [
       "True"
      ]
     },
     "execution_count": 65,
     "metadata": {},
     "output_type": "execute_result"
    }
   ],
   "source": [
    "'this' in 'this is a string'"
   ]
  },
  {
   "cell_type": "code",
   "execution_count": 66,
   "id": "ed08c7ba-d8be-4947-83e2-112d86a5f896",
   "metadata": {},
   "outputs": [
    {
     "data": {
      "text/plain": [
       "True"
      ]
     },
     "execution_count": 66,
     "metadata": {},
     "output_type": "execute_result"
    }
   ],
   "source": [
    "'in' in 'this is a string'"
   ]
  },
  {
   "cell_type": "code",
   "execution_count": 67,
   "id": "bf862160-3c53-4469-a04e-9e623cff09ac",
   "metadata": {},
   "outputs": [
    {
     "data": {
      "text/plain": [
       "False"
      ]
     },
     "execution_count": 67,
     "metadata": {},
     "output_type": "execute_result"
    }
   ],
   "source": [
    "'isa' in 'this is a string'"
   ]
  },
  {
   "cell_type": "code",
   "execution_count": 68,
   "id": "8592b05c-c4cb-4a10-8b0b-0d22a4307da0",
   "metadata": {},
   "outputs": [
    {
     "data": {
      "text/plain": [
       "True"
      ]
     },
     "execution_count": 68,
     "metadata": {},
     "output_type": "execute_result"
    }
   ],
   "source": [
    "5 not in [1, 2, 3, 4, 6]"
   ]
  },
  {
   "cell_type": "code",
   "execution_count": 69,
   "id": "2a091009-b39e-4dd0-98ce-2183ecec9637",
   "metadata": {},
   "outputs": [
    {
     "data": {
      "text/plain": [
       "False"
      ]
     },
     "execution_count": 69,
     "metadata": {},
     "output_type": "execute_result"
    }
   ],
   "source": [
    "5 in [1, 2, 3, 4, 6]"
   ]
  },
  {
   "cell_type": "markdown",
   "id": "354f08cc-6b41-4a0e-bbc3-a3334c0a3927",
   "metadata": {},
   "source": [
    "### Mutabilidade e Ordenação\n",
    "__Mutabilidade__ é sobre se podemos ou não mudar um objeto uma vez que o criamos anteriormente. Se um objeto (como uma lista ou string) pode ser mudado (como uma lista pode), então ele é chamado de mutável. *Contudo, se um objeto não pode ser mudado sem a criação de um completo novo objeto (como strings)*, então o objeto é considerado imutável."
   ]
  },
  {
   "cell_type": "code",
   "execution_count": 74,
   "id": "bb129b07-99a4-486c-8f04-1dd88a5498f2",
   "metadata": {},
   "outputs": [],
   "source": [
    "minha_lista = [1, 2, 3, 4, 5]\n",
    "minha_lista[0] = \"one\""
   ]
  },
  {
   "cell_type": "markdown",
   "id": "ebee6d94-088c-4a48-9cba-3879b6ad69b0",
   "metadata": {},
   "source": [
    "Conforme mostrado acima, você pode substituir 1 por 'um' na lista acima. Isso ocorre porque as *listas são **mutáveis***.\n",
    "\n",
    "No entanto, o seguinte não funciona:"
   ]
  },
  {
   "cell_type": "code",
   "execution_count": 75,
   "id": "ae7f25ea-f3de-4d5f-8415-2436f4febb9c",
   "metadata": {},
   "outputs": [
    {
     "ename": "TypeError",
     "evalue": "'str' object does not support item assignment",
     "output_type": "error",
     "traceback": [
      "\u001b[1;31m---------------------------------------------------------------------------\u001b[0m",
      "\u001b[1;31mTypeError\u001b[0m                                 Traceback (most recent call last)",
      "Cell \u001b[1;32mIn[75], line 2\u001b[0m\n\u001b[0;32m      1\u001b[0m saudacao \u001b[38;5;241m=\u001b[39m \u001b[38;5;124m'\u001b[39m\u001b[38;5;124mOlá a todos!\u001b[39m\u001b[38;5;124m'\u001b[39m\n\u001b[1;32m----> 2\u001b[0m \u001b[43msaudacao\u001b[49m\u001b[43m[\u001b[49m\u001b[38;5;241;43m1\u001b[39;49m\u001b[43m]\u001b[49m \u001b[38;5;241m=\u001b[39m \u001b[38;5;124m'\u001b[39m\u001b[38;5;124mb\u001b[39m\u001b[38;5;124m'\u001b[39m\n",
      "\u001b[1;31mTypeError\u001b[0m: 'str' object does not support item assignment"
     ]
    }
   ],
   "source": [
    "saudacao = 'Olá a todos!'\n",
    "saudacao[1] = 'b'"
   ]
  },
  {
   "cell_type": "markdown",
   "id": "8c074f82-4445-4966-b34d-25af31e7d654",
   "metadata": {},
   "source": [
    "Isso ocorre porque *as strings são **imutáveis***. Isso significa que, para alterar essa string, você precisará criar uma string completamente nova."
   ]
  },
  {
   "cell_type": "markdown",
   "id": "95ffd203-73b8-4e21-81c6-12706ee94ef4",
   "metadata": {},
   "source": [
    "Existem duas coisas a manter em mente para cada um dos tipos de dados que você estiver usando:\n",
    "\n",
    "- Eles são mutáveis?\n",
    "- Eles são ordenados?\n",
    "\n",
    "**Ordenação** é sobre se a posição de um elemento no objeto podem ser usados para acessar o elemento. Ambas strings e listas são ordenadas. Pois nós podemos usar a ordem para acessar partes de listas e strings.\n",
    "\n",
    "Contudo, você verá alguns tipos de dados nas próximas seções que serão desordenados. Para cada próxima estrutura de dado que você ver, isso é útil para entender como você indexa, se eles são mutáveis, imutáveis, e se são ordenados. Saber disso sobre a estrutura de dado é realmente útil!\n",
    "\n",
    "Adicionalmente, você verá como cada um tem diferentes métodos, também porque você usaria uma estrutura de dado vs. outra é largamente dependente dessas propriedades, e o que você pode facilmente fazer com isso!"
   ]
  },
  {
   "cell_type": "markdown",
   "id": "475d3094-e32e-4095-b594-e39b87fe2783",
   "metadata": {},
   "source": [
    "**Quiz: List Indexing**\n",
    "\n",
    "Use a indexação de lista para determinar quantos dias há em um determinado mês com base na variável inteira `mes` e armazene esse valor na variável inteira `num_dias`. Por exemplo, se o `mes` for 8, `num_dias` deve ser definido como 31, pois o oitavo mês, agosto, tem 31 dias.\n",
    "\n",
    "Lembre-se de levar em consideração a indexação baseada em zero!"
   ]
  },
  {
   "cell_type": "code",
   "execution_count": 78,
   "id": "09f1dc76-92d5-4213-95fd-46a38bbf2b55",
   "metadata": {},
   "outputs": [
    {
     "name": "stdout",
     "output_type": "stream",
     "text": [
      "31\n"
     ]
    }
   ],
   "source": [
    "mes = 8\n",
    "dias_no_mes = [31, 28, 31, 30, 31, 30, 31, 31, 30, 31, 30, 31]\n",
    "num_dias = dias_no_mes[mes + 1]\n",
    "# use list indexing to determine the number of days in month\n",
    "print(num_dias)"
   ]
  },
  {
   "cell_type": "markdown",
   "id": "688d2db2-2f30-4f60-8d67-874d40d691af",
   "metadata": {},
   "source": [
    "**Quiz: Slicing Listas**\n",
    "\n",
    "Selecione as 3 mais recentes datas dessa lista usando list slicing notation. Dica: indices negativos funcionam em slices!"
   ]
  },
  {
   "cell_type": "code",
   "execution_count": 79,
   "id": "3320707b-9c4e-46ea-bc29-9b66ec7e93ec",
   "metadata": {},
   "outputs": [
    {
     "name": "stdout",
     "output_type": "stream",
     "text": [
      "['November 13, 2012', 'March 20, 2015', 'March 9, 2016']\n"
     ]
    }
   ],
   "source": [
    "eclipse_dates = ['June 21, 2001', 'December 4, 2002', 'November 23, 2003',\n",
    "                 'March 29, 2006', 'August 1, 2008', 'July 22, 2009',\n",
    "                 'July 11, 2010', 'November 13, 2012', 'March 20, 2015',\n",
    "                 'March 9, 2016']\n",
    "                 \n",
    "                 \n",
    "# TODO: Modify this line so it prints the last three elements of the list\n",
    "print(eclipse_dates[-3:])"
   ]
  },
  {
   "cell_type": "markdown",
   "id": "5b5f0338-c087-40b2-91c3-e1dfa654acb1",
   "metadata": {},
   "source": [
    "#### Por quê precisamos de Listas?"
   ]
  },
  {
   "cell_type": "markdown",
   "id": "38222538-d70c-434b-9ed8-f2c08b624b58",
   "metadata": {},
   "source": [
    "Vamos falar sobre porque precisamos de uma estrutura de dados como uma lista e quando usar ela. Nós vamos dar um exemplo do universo de Wall Street para essa discussão.\n",
    "\n",
    "Companhias listadas na bolsa NASDAQ tem símbolos de ação ou abreviações para cada nome de companhia. Por exemplo, o símbolo de ação para Alphabet, Inc. é GOOGL.\n",
    "\n",
    "Imagine agora que você possui ações de uma empresa, digo Microsoft, e quer tirar print do símbolo de ação da sua ação. Como é um valor, você pode armazená-lo na variável `microsoft` e atribuir a ele o valor de `MSFT`. Como isso:"
   ]
  },
  {
   "cell_type": "code",
   "execution_count": 86,
   "id": "38c900d1-46cf-46b4-bcbc-079f6257674e",
   "metadata": {},
   "outputs": [],
   "source": [
    "microsoft = \"MSFT\""
   ]
  },
  {
   "cell_type": "markdown",
   "id": "1b28492b-03b0-4c20-8d34-4e6ddeac81ed",
   "metadata": {},
   "source": [
    "Bem, isso é conveniente! Então, agora, quando você quiser imprimir o símbolo da empresa para a qual possui ações, use o comando de impressão."
   ]
  },
  {
   "cell_type": "code",
   "execution_count": 87,
   "id": "d47caadb-983c-4819-ae48-b190eafd176e",
   "metadata": {},
   "outputs": [
    {
     "name": "stdout",
     "output_type": "stream",
     "text": [
      "MSFT\n"
     ]
    }
   ],
   "source": [
    "print(microsoft)"
   ]
  },
  {
   "cell_type": "markdown",
   "id": "37677824-fbcc-4bbe-94d0-1f3d107693d7",
   "metadata": {},
   "source": [
    "Vamos agora considerar que você é um gestor de fundos de investimento e deseja imprimir as ações (ou participações) que possui em um fundo de índice (por exemplo, Vanguard Institutional Index Fund). Um fundo de índice inclui ações (também chamadas de participações) para um grande número de empresas. Acontece que o Vanguard Institutional Index Fund tem 506 participações!\n",
    "\n",
    "Imprimir os bilhetes para todas as 506 participações usando strings individuais exigiria 506 strings. Não é ideal! Porque precisaremos lembrar o nome de cada string para imprimi-la.\n",
    "Você também tem que pensar em como agrupar as 506 strings sob o mesmo fundo de índice. Nada conveniente!\n",
    "\n",
    "É aqui que a beleza das estruturas de dados entra em jogo! Você pode usar uma lista.\n",
    "\n",
    "Como os fundos de índice também têm símbolos de cotação, você usa isso como o nome da lista, aqui VINIX, e adiciona os símbolos de cotação para todas as participações nessa lista. Vamos preencher a lista com as principais participações listadas para o Vanguard Institutional Index Fund."
   ]
  },
  {
   "cell_type": "code",
   "execution_count": 89,
   "id": "d206af20-2acb-4497-ad04-46dd339faeea",
   "metadata": {},
   "outputs": [],
   "source": [
    "VINIX = ['C', 'MA', 'BA', 'PG', 'CSCO', 'VZ', 'PFE', 'HD', 'INTC', 'T', 'V', 'UNH', 'WFC', 'CVX',\n",
    "         'BAC', 'JNJ', 'GOOGL', 'GOOG', 'BRK.B', 'XOM', 'JPM', 'FB', 'AMZN', 'MSFT', 'AAPL']"
   ]
  },
  {
   "cell_type": "code",
   "execution_count": 90,
   "id": "e6f2da72-61d4-4a59-bb60-a88333a6fdf3",
   "metadata": {},
   "outputs": [
    {
     "name": "stdout",
     "output_type": "stream",
     "text": [
      "C\n",
      "MA\n"
     ]
    }
   ],
   "source": [
    "print(VINIX[0])\n",
    "print(VINIX[1])"
   ]
  },
  {
   "cell_type": "markdown",
   "id": "8bc588d6-4c09-479e-b890-8cee31c71207",
   "metadata": {},
   "source": [
    "- Podemos pesquisar se essa string existe em VINIX:"
   ]
  },
  {
   "cell_type": "code",
   "execution_count": 93,
   "id": "e272fbf2-4540-4e2a-8240-27e93da73aff",
   "metadata": {},
   "outputs": [
    {
     "data": {
      "text/plain": [
       "False"
      ]
     },
     "execution_count": 93,
     "metadata": {},
     "output_type": "execute_result"
    }
   ],
   "source": [
    "'GE' in VINIX"
   ]
  },
  {
   "cell_type": "code",
   "execution_count": 92,
   "id": "b1c1ed01-c12a-4c8e-8d1d-c49ddfcc3c3f",
   "metadata": {},
   "outputs": [
    {
     "data": {
      "text/plain": [
       "True"
      ]
     },
     "execution_count": 92,
     "metadata": {},
     "output_type": "execute_result"
    }
   ],
   "source": [
    "'GOOGL' in VINIX"
   ]
  },
  {
   "cell_type": "markdown",
   "id": "173647cc-22b1-459a-b286-23ea4689f6a7",
   "metadata": {},
   "source": [
    "### Métodos de Listas\n",
    "\n",
    "#### Funções úteis para listas I\n",
    "- `max()` = retorna o maior elemento da lista. Numa lista de números é o maior número, numa lista de strings é o elemento que deveria estar por último se a lista fosse ordenada. É utilizada se tiver apenas um tipo de dado (número com número, string com string), do contrário o erro é certo.\n",
    "- `min()` = retorna o menor elemento da lista. Numa lista de números é o menor número, numa lista de strings é o elemento que deveria estar em primeiro se a lista fosse ordenada. É utilizada se tiver apenas um tipo de dado (número com número, string com string), do contrário o erro é certo.\n",
    "- `sorted()` = retorna a lista de maneira ordenada."
   ]
  },
  {
   "cell_type": "code",
   "execution_count": 101,
   "id": "6d36ce54-574c-411d-ab50-8a8a2770a622",
   "metadata": {},
   "outputs": [
    {
     "name": "stdout",
     "output_type": "stream",
     "text": [
      "pontos: ['B', 'C', 'A', 'D', 'B', 'A']\n",
      "notas: ['B', 'C', 'A', 'D', 'B', 'A']\n",
      "pontos: ['B', 'C', 'A', 'B', 'B', 'A']\n",
      "notas: ['B', 'C', 'A', 'B', 'B', 'A']\n"
     ]
    }
   ],
   "source": [
    "pontos = [\"B\", \"C\", \"A\", \"D\", \"B\", \"A\"]\n",
    "notas = pontos\n",
    "print(\"pontos: \" + str(pontos))\n",
    "print(\"notas: \" + str(notas))\n",
    "pontos[3] = \"B\" # isso afeta os dois, pois editei a lista toda.\n",
    "print(\"pontos: \" + str(pontos))\n",
    "print(\"notas: \" + str(notas))"
   ]
  },
  {
   "cell_type": "code",
   "execution_count": 106,
   "id": "0ffc79c1-b714-4bc4-9a04-5934779f83cd",
   "metadata": {},
   "outputs": [
    {
     "data": {
      "text/plain": [
       "'Reticulated Python'"
      ]
     },
     "execution_count": 106,
     "metadata": {},
     "output_type": "execute_result"
    }
   ],
   "source": [
    "python_variedades = ['Burmese Python', 'African Rock Python', 'Ball Python', 'Reticulated Python', 'Angolan Python']\n",
    "max(python_variedades)"
   ]
  },
  {
   "cell_type": "code",
   "execution_count": 113,
   "id": "00f620d0-ae35-4044-8184-f5dc785d50e0",
   "metadata": {},
   "outputs": [
    {
     "data": {
      "text/plain": [
       "'African Rock Python'"
      ]
     },
     "execution_count": 113,
     "metadata": {},
     "output_type": "execute_result"
    }
   ],
   "source": [
    "min(python_variedades)"
   ]
  },
  {
   "cell_type": "code",
   "execution_count": 107,
   "id": "6fb6620a-a4d0-4236-82d9-abc857875cf3",
   "metadata": {},
   "outputs": [
    {
     "data": {
      "text/plain": [
       "['African Rock Python',\n",
       " 'Angolan Python',\n",
       " 'Ball Python',\n",
       " 'Burmese Python',\n",
       " 'Reticulated Python']"
      ]
     },
     "execution_count": 107,
     "metadata": {},
     "output_type": "execute_result"
    }
   ],
   "source": [
    "sorted(python_variedades)"
   ]
  },
  {
   "cell_type": "code",
   "execution_count": 116,
   "id": "f30ddc7e-69c3-4df2-9b3d-e494a10e6ff8",
   "metadata": {},
   "outputs": [
    {
     "data": {
      "text/plain": [
       "'Z'"
      ]
     },
     "execution_count": 116,
     "metadata": {},
     "output_type": "execute_result"
    }
   ],
   "source": [
    "max([\"Z\", \"Olá\"])"
   ]
  },
  {
   "cell_type": "markdown",
   "id": "f9d1fb2b-b881-4157-beae-513b31d35c6e",
   "metadata": {},
   "source": [
    "#### Funções úteis para listas II\n",
    "- __`.join()`__ = .join() é um método de string que usa uma lista de strings como um argumento e retorna uma string que consiste nos elementos da lista unidos por uma string separadora.<br>\n",
    "- __`.append()`__ = é um método que adiciona um elemento ao final da lista."
   ]
  },
  {
   "cell_type": "code",
   "execution_count": 18,
   "id": "d876a160-8b18-4538-851b-0064d9b6f580",
   "metadata": {},
   "outputs": [
    {
     "name": "stdout",
     "output_type": "stream",
     "text": [
      "dado1\n",
      "dado2\n",
      "dado3\n"
     ]
    }
   ],
   "source": [
    "dados_ls = ['dado1', 'dado2', 'dado3']\n",
    "dados_str = '\\n'.join(dados_ls)\n",
    "print(dados_str)"
   ]
  },
  {
   "cell_type": "code",
   "execution_count": 19,
   "id": "4bd3c5e5-4745-45a6-9245-aa5e96dff742",
   "metadata": {},
   "outputs": [
    {
     "name": "stdout",
     "output_type": "stream",
     "text": [
      "GarcíaO'KellyDavis\n"
     ]
    }
   ],
   "source": [
    "nomes = [\"García\" \"O'Kelly\" \"Davis\"]\n",
    "print('-'.join(nomes))"
   ]
  },
  {
   "cell_type": "markdown",
   "id": "0b27edba-c391-43bf-9cb6-12b4e09b256d",
   "metadata": {},
   "source": [
    "> **Obs:** Note que acima o hífen (-) não está em evidência no output como deveria estar, isso acontece porque não usamos a vírgula (,) na lista, o item do join substitui a vírgula da lista.\n",
    "\n",
    "_Obs: `.join()` funciona **apenas** com strings._ \n",
    "- Veja abaixo o que acontece quando usamos outro tipo de dado:"
   ]
  },
  {
   "cell_type": "code",
   "execution_count": 20,
   "id": "fb29ed25-b1b3-44fd-97a4-43c0c3789787",
   "metadata": {},
   "outputs": [
    {
     "ename": "TypeError",
     "evalue": "sequence item 1: expected str instance, int found",
     "output_type": "error",
     "traceback": [
      "\u001b[1;31m---------------------------------------------------------------------------\u001b[0m",
      "\u001b[1;31mTypeError\u001b[0m                                 Traceback (most recent call last)",
      "Cell \u001b[1;32mIn[20], line 2\u001b[0m\n\u001b[0;32m      1\u001b[0m algo \u001b[38;5;241m=\u001b[39m [\u001b[38;5;124m\"\u001b[39m\u001b[38;5;124mcoisa\u001b[39m\u001b[38;5;124m\"\u001b[39m, \u001b[38;5;241m42\u001b[39m, \u001b[38;5;124m\"\u001b[39m\u001b[38;5;124mnope\u001b[39m\u001b[38;5;124m\"\u001b[39m]\n\u001b[1;32m----> 2\u001b[0m \u001b[38;5;28mprint\u001b[39m(\u001b[38;5;124;43m'\u001b[39;49m\u001b[38;5;124;43m-\u001b[39;49m\u001b[38;5;124;43m'\u001b[39;49m\u001b[38;5;241;43m.\u001b[39;49m\u001b[43mjoin\u001b[49m\u001b[43m(\u001b[49m\u001b[43malgo\u001b[49m\u001b[43m)\u001b[49m)\n",
      "\u001b[1;31mTypeError\u001b[0m: sequence item 1: expected str instance, int found"
     ]
    }
   ],
   "source": [
    "algo = [\"coisa\", 42, \"nope\"]\n",
    "print('-'.join(algo))"
   ]
  },
  {
   "cell_type": "markdown",
   "id": "c93dc825-5cd6-420c-a55a-7169fe8c951b",
   "metadata": {},
   "source": [
    "- Usando __`.append()`__ = "
   ]
  },
  {
   "cell_type": "code",
   "execution_count": 26,
   "id": "4498eb65-d72b-46b0-ba02-ffd0e99de7df",
   "metadata": {},
   "outputs": [
    {
     "name": "stdout",
     "output_type": "stream",
     "text": [
      "['a', 'b', 'c', 'd', 'z']\n"
     ]
    }
   ],
   "source": [
    "letras = [\"a\", \"b\", \"c\", \"d\"]\n",
    "letras.append(\"z\")\n",
    "print(letras)"
   ]
  },
  {
   "cell_type": "markdown",
   "id": "9192d9b3-48b2-42ec-b337-b9276d1a0891",
   "metadata": {},
   "source": [
    "## Tuplas\n",
    "__Tuplas__ são usadas para _armazenar informações relacionadas_. São em resumo um tipo de dado para sequências de elementos _ordenados_ e _imutáveis_.\n",
    "- Não podemos remover itens, ordenar ou adicionar itens nas tuplas."
   ]
  },
  {
   "cell_type": "code",
   "execution_count": 32,
   "id": "b00ff28a-5c63-45ed-a9c7-654e79657d29",
   "metadata": {},
   "outputs": [
    {
     "name": "stdout",
     "output_type": "stream",
     "text": [
      "<class 'tuple'>\n",
      "Angkor Wat é de latitude: 13.4125\n",
      "Angkor Wat é de longitude: 103.866667\n"
     ]
    }
   ],
   "source": [
    "AngkorWat = (13.4125, 103.866667)\n",
    "\n",
    "print(type(AngkorWat))\n",
    "\n",
    "print(\"Angkor Wat é de latitude: {}\".format(AngkorWat[0]))\n",
    "print(\"Angkor Wat é de longitude: {}\".format(AngkorWat[1]))"
   ]
  },
  {
   "cell_type": "code",
   "execution_count": 34,
   "id": "834ff5c8-ebb7-45bb-b81d-7685eafe9beb",
   "metadata": {},
   "outputs": [
    {
     "ename": "TypeError",
     "evalue": "'tuple' object does not support item assignment",
     "output_type": "error",
     "traceback": [
      "\u001b[1;31m---------------------------------------------------------------------------\u001b[0m",
      "\u001b[1;31mTypeError\u001b[0m                                 Traceback (most recent call last)",
      "Cell \u001b[1;32mIn[34], line 1\u001b[0m\n\u001b[1;32m----> 1\u001b[0m \u001b[43mAngkorWat\u001b[49m\u001b[43m[\u001b[49m\u001b[38;5;241;43m0\u001b[39;49m\u001b[43m]\u001b[49m \u001b[38;5;241m=\u001b[39m \u001b[38;5;241m3\u001b[39m \u001b[38;5;66;03m# imutável = erro\u001b[39;00m\n",
      "\u001b[1;31mTypeError\u001b[0m: 'tuple' object does not support item assignment"
     ]
    }
   ],
   "source": [
    "AngkorWat[0] = 3 # imutável = erro"
   ]
  },
  {
   "cell_type": "markdown",
   "id": "c219d94f-2051-4e28-b4e4-103bc26a70da",
   "metadata": {},
   "source": [
    "- __Por quê temos tuplas se são listas com menos recursos?<br>__\n",
    "Tuplas são úteis quando você tem dois ou mais valores que são intimamente relacionados e que irão sempre ser usados juntos como as coordenadas de latitude e longitude.<br>\n",
    "_Tuplas também podem ser usadas para atribuir múltiplas variáveis de maneira compacta, como abaixo:_<br>\n",
    "- __*Desempacotamento de strings:*__"
   ]
  },
  {
   "cell_type": "code",
   "execution_count": 42,
   "id": "8a4b739d-6bf8-4504-b4fe-ccf05f436ab9",
   "metadata": {},
   "outputs": [
    {
     "name": "stdout",
     "output_type": "stream",
     "text": [
      "As dimensões são: 52 x 40 x 100\n"
     ]
    }
   ],
   "source": [
    "dimensoes = 52, 40, 100\n",
    "tamanho, largura, altura = dimensoes # desempacotamento de strings.\n",
    "print('As dimensões são: {} x {} x {}'.format(tamanho, largura, altura))"
   ]
  },
  {
   "cell_type": "code",
   "execution_count": 40,
   "id": "44a6ccfa-cc10-49ce-821f-4b3244f56ddd",
   "metadata": {},
   "outputs": [
    {
     "name": "stdout",
     "output_type": "stream",
     "text": [
      "Tamanho: 52 Largura: 40 Altura: 100 \n",
      "Dimensões: (52, 40, 100)\n"
     ]
    }
   ],
   "source": [
    "dimensoes = 52, 40, 100\n",
    "tamanho, largura, altura = dimensoes\n",
    "print(\"Tamanho:\", tamanho, \"Largura:\", largura, \"Altura:\", altura, \"\\nDimensões:\", dimensoes)"
   ]
  },
  {
   "cell_type": "code",
   "execution_count": 41,
   "id": "f9a6a1f2-0646-4872-b5b1-05c6b428df0c",
   "metadata": {},
   "outputs": [
    {
     "name": "stdout",
     "output_type": "stream",
     "text": [
      "Latitude: 13.4125\n",
      "Longitude: 103.866667\n"
     ]
    }
   ],
   "source": [
    "localizacao = (13.4125, 103.866667)\n",
    "print(\"Latitude:\", localizacao[0])\n",
    "print(\"Longitude:\", localizacao[1])"
   ]
  },
  {
   "cell_type": "markdown",
   "id": "687d20e2-5e9b-47e4-873f-5678adb5852d",
   "metadata": {},
   "source": [
    "Os parênteses são opcionais na definição de tuplas, e programadores frequentemente omitem eles se os parênteses não deixam o código claro.\n",
    "\n",
    "Na segunda linha, 3 variáveis são atribuídas ao conteúdo da tupla dimensoes. Isso é chamado de __desempacotamento de tuplas__. Você pode usar desempacotamento de tuplas para atribuir a informação de uma tupla para múltiplas variáveis sem ter que acessar uma por uma e fazer multiplas declarações de atribuições.\n",
    "\n",
    "Se não precisamos usar `dimensions` diretamente, nós podemos simplificar essas 2 linhas de código para uma única linha que atribui 3 variáveis de uma vez só!"
   ]
  },
  {
   "cell_type": "code",
   "execution_count": 43,
   "id": "65d2e454-341d-4010-aa76-198afd821bba",
   "metadata": {},
   "outputs": [
    {
     "name": "stdout",
     "output_type": "stream",
     "text": [
      "As dimensões são 52 x 40 x 100\n"
     ]
    }
   ],
   "source": [
    "length, width, height = 52, 40, 100\n",
    "print(\"As dimensões são {} x {} x {}\".format(length, width, height))"
   ]
  },
  {
   "cell_type": "markdown",
   "id": "db1d1b6c-3f53-4d25-81c0-7aaea6bc191e",
   "metadata": {},
   "source": [
    "## Sets\n",
    "- ___Set___ é um tipo de dado para coleções de __únicos elementos__ _mutáveis_ e _desordenados_.<br>\n",
    "- Você fez uma pesquisa e coletou 785 respostas que dizem nomes de países e colocou isso dentro dentro de uma lista de países, é claro que tiveram muitas duplicações, *para tirar as duplicações usamos Sets*.\n",
    "- Sets por serem desordenados não possuem um primeiro elemento nem ultimo fixos."
   ]
  },
  {
   "cell_type": "code",
   "execution_count": 14,
   "id": "318e5160-ca53-4fa1-9a9e-b12064b11416",
   "metadata": {},
   "outputs": [
    {
     "name": "stdout",
     "output_type": "stream",
     "text": [
      "['Marrocos', 'Brasil', 'Líbano', 'Bangladesh', 'Brasil', 'Líbano']\n",
      "Observe que não há mais duplicatas: {'Bangladesh', 'Líbano', 'Marrocos', 'Brasil'}\n"
     ]
    }
   ],
   "source": [
    "paises = ['Marrocos', 'Brasil', 'Líbano', 'Bangladesh', 'Brasil', 'Líbano']\n",
    "print(paises)\n",
    "print(\"Observe que não há mais duplicatas:\", set(paises))"
   ]
  },
  {
   "cell_type": "code",
   "execution_count": 55,
   "id": "85c0081e-bd5e-4901-a4ea-47541107ae58",
   "metadata": {},
   "outputs": [
    {
     "name": "stdout",
     "output_type": "stream",
     "text": [
      "8\n",
      "['Angola', 'Maldivas', 'India', 'Estados Unidos', 'India']\n"
     ]
    },
    {
     "ename": "TypeError",
     "evalue": "'set' object is not subscriptable",
     "output_type": "error",
     "traceback": [
      "\u001b[1;31m---------------------------------------------------------------------------\u001b[0m",
      "\u001b[1;31mTypeError\u001b[0m                                 Traceback (most recent call last)",
      "Cell \u001b[1;32mIn[55], line 6\u001b[0m\n\u001b[0;32m      4\u001b[0m \u001b[38;5;28mprint\u001b[39m(paises[:\u001b[38;5;241m5\u001b[39m])\n\u001b[0;32m      5\u001b[0m set_paises \u001b[38;5;241m=\u001b[39m \u001b[38;5;28mset\u001b[39m(paises)\n\u001b[1;32m----> 6\u001b[0m \u001b[38;5;28mprint\u001b[39m(\u001b[43mset_paises\u001b[49m\u001b[43m[\u001b[49m\u001b[38;5;241;43m0\u001b[39;49m\u001b[43m]\u001b[49m) \u001b[38;5;66;03m# não consigo mostrar o primeiro país assim pois sets são desordenados.\u001b[39;00m\n",
      "\u001b[1;31mTypeError\u001b[0m: 'set' object is not subscriptable"
     ]
    }
   ],
   "source": [
    "paises = ['Angola', 'Maldivas', 'India', 'Estados Unidos', 'India', 'Dinamarca', 'Suécia', 'Gana']\n",
    "\n",
    "print(len(paises))\n",
    "print(paises[:5])\n",
    "set_paises = set(paises)\n",
    "print(set_paises[0]) # não consigo mostrar o primeiro país assim pois sets são desordenados."
   ]
  },
  {
   "cell_type": "markdown",
   "id": "48bdeccc-5e85-401b-984b-c91ded48180c",
   "metadata": {},
   "source": [
    "- ___Sets___ _suportam o operador `in`_ assim como as listas:"
   ]
  },
  {
   "cell_type": "code",
   "execution_count": 16,
   "id": "f4911c7e-71c6-416e-b705-f68fe4bad865",
   "metadata": {},
   "outputs": [
    {
     "name": "stdout",
     "output_type": "stream",
     "text": [
      "True\n"
     ]
    }
   ],
   "source": [
    "print('India' in set_paises) "
   ]
  },
  {
   "cell_type": "markdown",
   "id": "ecf43f13-5072-4137-ba42-781597c533c3",
   "metadata": {},
   "source": [
    "- Para ___adicionar___ elementos ao Set:"
   ]
  },
  {
   "cell_type": "code",
   "execution_count": 17,
   "id": "99d3fa89-a8e2-4853-a86f-7d9e57b643fa",
   "metadata": {},
   "outputs": [
    {
     "name": "stdout",
     "output_type": "stream",
     "text": [
      "{'Suécia', 'Gana', 'Estados Unidos', 'Dinamarca', 'India', 'Angola', 'Italia', 'Maldivas'}\n"
     ]
    }
   ],
   "source": [
    "set_paises.add(\"Italia\")\n",
    "print(set_paises)"
   ]
  },
  {
   "cell_type": "markdown",
   "id": "4f3949c2-c676-42ac-8c63-904dd6c7e653",
   "metadata": {},
   "source": [
    "- Para ___remover___ _um elemento aleatório_ do Set:"
   ]
  },
  {
   "cell_type": "code",
   "execution_count": 18,
   "id": "1b62e1ac-7d13-4fe2-b02f-7235bb73f784",
   "metadata": {},
   "outputs": [
    {
     "name": "stdout",
     "output_type": "stream",
     "text": [
      "{'Gana', 'Estados Unidos', 'Dinamarca', 'India', 'Angola', 'Italia', 'Maldivas'}\n"
     ]
    }
   ],
   "source": [
    "set_paises.pop()\n",
    "print(set_paises) # Removeu Suécia"
   ]
  },
  {
   "cell_type": "markdown",
   "id": "20b079e8-cc16-44ce-a6c9-ce6a8a3d4476",
   "metadata": {},
   "source": [
    "Documentação Set Methods: https://www.w3schools.com/python/python_ref_set.asp"
   ]
  },
  {
   "cell_type": "markdown",
   "id": "7b4926e9-0eed-413d-95cc-e771fbdc8fa6",
   "metadata": {},
   "source": [
    "## Dicionários e Operadores de Identificação"
   ]
  },
  {
   "cell_type": "markdown",
   "id": "6bb9edde-a0f6-4481-945c-13e8175763f2",
   "metadata": {},
   "source": [
    "### Dicionários\n",
    "Dicionário é um tipo de dado mutável que armazena mapeamentos de chaves exclusivas para valores. Aqui está um dicionário que armazena elementos e seus números atômicos:"
   ]
  },
  {
   "cell_type": "code",
   "execution_count": 20,
   "id": "c0d4c053-1a5c-4efd-a8bf-e92ca0151dd5",
   "metadata": {},
   "outputs": [],
   "source": [
    "elementos = {\"hidrogênio\": 1, \"hélio\": 2, \"carbono\": 6}"
   ]
  },
  {
   "cell_type": "markdown",
   "id": "d7692920-c424-44f2-bb1d-10bf5f6435c5",
   "metadata": {},
   "source": [
    "- Os dicionários podem ter chaves de qualquer tipo imutável (strings, inteiros e tuplas por exemplo).\n",
    "- Podemos pesquisar valores ou inserir novos valores no dicionário usando colchetes que envolvem a chave."
   ]
  },
  {
   "cell_type": "code",
   "execution_count": 42,
   "id": "36510d15-93e7-403e-bf78-0b4d79a7cbfb",
   "metadata": {},
   "outputs": [
    {
     "name": "stdout",
     "output_type": "stream",
     "text": [
      "1\n",
      "{'hidrogênio': 1, 'hélio': 2, 'carbono': 6, 'lítio': 3}\n"
     ]
    }
   ],
   "source": [
    "print(elementos[\"hidrogênio\"])\n",
    "elementos[\"lítio\"] = 3 # inserindo valor.\n",
    "print(elementos)"
   ]
  },
  {
   "cell_type": "markdown",
   "id": "f618aabd-6523-4590-b967-1534cd901d18",
   "metadata": {},
   "source": [
    "- Nós podemos checar se um valor está no dicionário do mesmo jeito nós checamos se um valor está na lista ou definir com a palavra-chave `in`. Dicionários possuem um método relacionado que também é útil, get. `get` procura pelos valores num dicionário, mas diferente de colchetes, get retorna None (ou um valor padrão da sua escolha) se a chave não foi encontrada."
   ]
  },
  {
   "cell_type": "code",
   "execution_count": 43,
   "id": "ae5fa42f-e6ba-4774-8bc7-352a23f13320",
   "metadata": {},
   "outputs": [
    {
     "name": "stdout",
     "output_type": "stream",
     "text": [
      "True\n",
      "3\n",
      "None\n"
     ]
    }
   ],
   "source": [
    "print(\"carbono\" in elementos)\n",
    "print(elementos.get(\"lítio\")) # get retorna o valor de lítio se houver essa chave, do contrário, retorna None \n",
    "print(elementos.get(\"dilitio\"))"
   ]
  },
  {
   "cell_type": "markdown",
   "id": "aca47bcb-6a8e-4a21-aa30-de3242f6acd9",
   "metadata": {},
   "source": [
    "__Quiz: Defina um Dicionário__\n",
    "\n",
    "Defina um dicionário nomeado `populacao` que contem esses dados:"
   ]
  },
  {
   "cell_type": "code",
   "execution_count": 30,
   "id": "3250bbed-8161-48dc-b720-62a7eab82fc2",
   "metadata": {},
   "outputs": [
    {
     "data": {
      "text/html": [
       "<div>\n",
       "<style scoped>\n",
       "    .dataframe tbody tr th:only-of-type {\n",
       "        vertical-align: middle;\n",
       "    }\n",
       "\n",
       "    .dataframe tbody tr th {\n",
       "        vertical-align: top;\n",
       "    }\n",
       "\n",
       "    .dataframe thead th {\n",
       "        text-align: right;\n",
       "    }\n",
       "</style>\n",
       "<table border=\"1\" class=\"dataframe\">\n",
       "  <thead>\n",
       "    <tr style=\"text-align: right;\">\n",
       "      <th></th>\n",
       "      <th>Chaves</th>\n",
       "      <th>Valores</th>\n",
       "    </tr>\n",
       "  </thead>\n",
       "  <tbody>\n",
       "    <tr>\n",
       "      <th>0</th>\n",
       "      <td>Shanghai</td>\n",
       "      <td>17.8</td>\n",
       "    </tr>\n",
       "    <tr>\n",
       "      <th>1</th>\n",
       "      <td>Istanbul</td>\n",
       "      <td>13.3</td>\n",
       "    </tr>\n",
       "    <tr>\n",
       "      <th>2</th>\n",
       "      <td>Karachi</td>\n",
       "      <td>13.0</td>\n",
       "    </tr>\n",
       "    <tr>\n",
       "      <th>3</th>\n",
       "      <td>Mumbai</td>\n",
       "      <td>12.5</td>\n",
       "    </tr>\n",
       "  </tbody>\n",
       "</table>\n",
       "</div>"
      ],
      "text/plain": [
       "     Chaves  Valores\n",
       "0  Shanghai     17.8\n",
       "1  Istanbul     13.3\n",
       "2   Karachi     13.0\n",
       "3    Mumbai     12.5"
      ]
     },
     "metadata": {},
     "output_type": "display_data"
    }
   ],
   "source": [
    "import pandas as pd\n",
    "\n",
    "populacao = {\n",
    "    'Chaves': ['Shanghai', 'Istanbul', 'Karachi', 'Mumbai'],\n",
    "    'Valores': [17.8, 13.3, 13.0, 12.5]\n",
    "}\n",
    "\n",
    "df_populacao = pd.DataFrame(populacao)\n",
    "display(df_populacao)"
   ]
  },
  {
   "cell_type": "code",
   "execution_count": 31,
   "id": "d24ffd09-2af9-49aa-914c-ac5288f9471d",
   "metadata": {},
   "outputs": [],
   "source": [
    "population = {\n",
    "    'Shanghai': 17.8,\n",
    "    'Istanbul': 13.3,\n",
    "    'Karachi': 13.0,\n",
    "    'Mumbai': 12.5\n",
    "}"
   ]
  },
  {
   "cell_type": "code",
   "execution_count": 32,
   "id": "e2e89fc0-df4a-41db-b180-741a9120f637",
   "metadata": {},
   "outputs": [
    {
     "ename": "KeyError",
     "evalue": "'Amor'",
     "output_type": "error",
     "traceback": [
      "\u001b[1;31m---------------------------------------------------------------------------\u001b[0m",
      "\u001b[1;31mKeyError\u001b[0m                                  Traceback (most recent call last)",
      "Cell \u001b[1;32mIn[32], line 1\u001b[0m\n\u001b[1;32m----> 1\u001b[0m \u001b[43mpopulation\u001b[49m\u001b[43m[\u001b[49m\u001b[38;5;124;43m'\u001b[39;49m\u001b[38;5;124;43mAmor\u001b[39;49m\u001b[38;5;124;43m'\u001b[39;49m\u001b[43m]\u001b[49m\n",
      "\u001b[1;31mKeyError\u001b[0m: 'Amor'"
     ]
    }
   ],
   "source": [
    "population['Amor']"
   ]
  },
  {
   "cell_type": "code",
   "execution_count": 36,
   "id": "6f13cf10-a711-419b-9cc1-02030ad457db",
   "metadata": {},
   "outputs": [
    {
     "data": {
      "text/plain": [
       "'Não há esse elemento!'"
      ]
     },
     "execution_count": 36,
     "metadata": {},
     "output_type": "execute_result"
    }
   ],
   "source": [
    "population.get('Sweden', 'Não há esse elemento!') # país, se for None fale: 'Não há esse elemento!'"
   ]
  },
  {
   "cell_type": "markdown",
   "id": "5b938993-733d-4726-8088-9bcd23d27167",
   "metadata": {},
   "source": [
    "No último exemplo, especificamos um valor padrão (a string 'Não existe tal elemento!') a ser retornado em vez de `None` quando a chave não for encontrada.\n",
    "\n",
    "#### Quando usar __Dicionários__?\n",
    "\n",
    "Vamos revisitar nosso exemplo de Wall Street de antes. Previamente nós criamos uma lista para o fundo de índice, traduzido: Fundo de Índice Institucional de Vanguarda, porque nós queremos printar os nomes das participações (ou ações) no fundo de índices.\n",
    "\n",
    "Agora, vamos dizer como o gestor de fundos de investimento para VINIX, você também quer printar um pouco mais de detalhes para cada participação. Por exemplo, qual a taxa de retorno de cada participação?\n",
    "\n",
    "Um dicionário funcionará bem aqui como uma chave: associação de valores. Em outras palavras, há uma ligação entre cada participação e informação (por exemplo, taxa de retorno), e isso pode ser organizado debaixo de um fundo de índice, VINIX."
   ]
  },
  {
   "cell_type": "code",
   "execution_count": 40,
   "id": "9c5fc1b2-2537-4653-bf7c-191fe971a846",
   "metadata": {},
   "outputs": [],
   "source": [
    "VINIX = {'C': 0.74, 'MA': 0.78, 'BA': 0.79, 'PG': 0.85, 'CSCO': 0.88, 'VZ': 0.9, 'PFE': 0.92, 'HD': 0.97, 'INTC': 1.0,\n",
    "        'T': 1.01, 'V': 1.02, 'UNH': 1.02, 'WFC': 1.05, 'CVX': 1.05, 'BAC': 1.15, 'JNJ': 1.41, 'GOOGL': 1.46,\n",
    "        'GOOG': 1.47, 'BRK.B': 1.5, 'XOM': 1.52, 'JPM': 1.53, 'FB': 2.02, 'AMZN': 2.96, 'MSFT': 3.28, 'AAPL': 3.94}"
   ]
  },
  {
   "cell_type": "markdown",
   "id": "e2bec3d8-3020-4378-8bde-64a41804fa5f",
   "metadata": {},
   "source": [
    "Você pode adicionar ainda outros detalhes, como taxa de retorno YTD. Para isso, podemos adicionar os detalhes ao valor associado à chave, ou seja, o símbolo do título.\n",
    "- Como isso:"
   ]
  },
  {
   "cell_type": "code",
   "execution_count": 41,
   "id": "09e3304d-71aa-4d91-b7c3-ec9b25167400",
   "metadata": {},
   "outputs": [],
   "source": [
    "VINIX = {'C': [0.74, -6.51],  'MA': [0.78, 34.77],  'BA': [0.79, 17.01],  'PG': [0.85, -8.81],  'CSCO': [0.88, 18.56],  'VZ': [0.9, 2.16],  'PFE': [0.92, 13.96],  'HD': [0.97, 3.2],  'INTC': [1.0, 2.61],  'T': [1.01, -15.19],  'V': [1.02, 24.0],  'UNH': [1.02, 19.32],  'WFC': [1.05, -3.59],  'CVX': [1.05, -5.77],  'BAC': [1.15, 4.27],  'JNJ': [1.41, -5.58],  'GOOGL': [1.46, 17.84],  'GOOG': [1.47, 17.03],  'BRK.B': [1.5, 4.54],  'XOM': [1.52, -6.87],  'JPM': [1.53, 7.66],  'FB': [2.02, 0.91], 'AMZN': [2.96, 62.75], 'MSFT': [3.28, 26.61], 'AAPL': [3.94, 26.01]}"
   ]
  },
  {
   "cell_type": "markdown",
   "id": "3c6f5a2f-13a5-47f2-9e77-11a3a61f5b67",
   "metadata": {},
   "source": [
    "Como você pode ver, as ___estruturas de dados___ são muito úteis para _coletar, armazenar e trabalhar com mais informações do que strings ou inteiros simples_.\n",
    "\n",
    "Em breve você aprenderá como usar métodos de dicionário para executar tarefas, como extrair valores de chaves, classificar valores por chaves, adicionar valores ao dicionário e muitas outras tarefas que tornam as estruturas de dados essenciais para a ciência de dados."
   ]
  },
  {
   "cell_type": "markdown",
   "id": "98dc7b65-4c71-4956-8448-325e7f430353",
   "metadata": {},
   "source": [
    "## Estruturas de Dados Compostos"
   ]
  },
  {
   "cell_type": "code",
   "execution_count": 46,
   "id": "ffa17295-babc-4b87-92ca-8622db0a69d1",
   "metadata": {},
   "outputs": [
    {
     "name": "stdout",
     "output_type": "stream",
     "text": [
      "{'número': 2, 'peso': 4.002602, 'símbolo': 'He'}\n",
      "Não tem esse elemento!\n"
     ]
    }
   ],
   "source": [
    "elementos = {\n",
    "    'hidrogênio': {\n",
    "        'número': 1, \n",
    "        'peso': 1.00794,\n",
    "        'símbolo': 'H'\n",
    "    },\n",
    "    'hélio': {\n",
    "        'número': 2,\n",
    "        'peso': 4.002602,\n",
    "        'símbolo': 'He'\n",
    "    }\n",
    "}\n",
    "\n",
    "print(elementos[\"hélio\"])\n",
    "print(elementos.get('unobtainium', 'Não tem esse elemento!'))"
   ]
  },
  {
   "cell_type": "code",
   "execution_count": 47,
   "id": "497bcef2-2055-4bbc-8977-19007b8cf9b9",
   "metadata": {},
   "outputs": [
    {
     "data": {
      "text/plain": [
       "4.002602"
      ]
     },
     "execution_count": 47,
     "metadata": {},
     "output_type": "execute_result"
    }
   ],
   "source": [
    "elementos[\"hélio\"][\"peso\"]"
   ]
  },
  {
   "cell_type": "code",
   "execution_count": 52,
   "id": "e7c29016-b5ac-4459-ae89-fe7a0cc99d4c",
   "metadata": {},
   "outputs": [
    {
     "name": "stdout",
     "output_type": "stream",
     "text": [
      "elementos: {'hidrogênio': {'número': 1, 'peso': 1.00794, 'símbolo': 'H'}, 'hélio': {'número': 8, 'peso': 15.999, 'símbolo': 'O'}, 'oxigênio': {'número': 8, 'peso': 15.999, 'símbolo': 'O'}, 'oxigenio': {'número': 8, 'peso': 15.999, 'símbolo': 'O'}}\n"
     ]
    }
   ],
   "source": [
    "oxigenio = {\"número\": 8, \"peso\": 15.999, \"símbolo\": \"O\"}\n",
    "elementos[\"oxigenio\"] = oxigenio\n",
    "print(\"elementos:\", elementos)"
   ]
  },
  {
   "cell_type": "markdown",
   "id": "3131575d-7120-4ad3-b485-ae8338751826",
   "metadata": {},
   "source": [
    "__Quiz: Adicionando Valores a Dicionários Aninhados__\n",
    "\n",
    "Tente trabalhar com dicionários aninhados. Adicione outra entrada, `eh_gas_nobre` a cada dicionário no dicionário de elementos. Depois de inserir as novas entradas, você poderá realizar estas pesquisas:"
   ]
  },
  {
   "cell_type": "code",
   "execution_count": 53,
   "id": "fa2217e9-d3de-4419-befb-2d75304f586d",
   "metadata": {},
   "outputs": [
    {
     "ename": "NameError",
     "evalue": "name 'elements' is not defined",
     "output_type": "error",
     "traceback": [
      "\u001b[1;31m---------------------------------------------------------------------------\u001b[0m",
      "\u001b[1;31mNameError\u001b[0m                                 Traceback (most recent call last)",
      "Cell \u001b[1;32mIn[53], line 1\u001b[0m\n\u001b[1;32m----> 1\u001b[0m \u001b[38;5;28mprint\u001b[39m(\u001b[43melements\u001b[49m[\u001b[38;5;124m'\u001b[39m\u001b[38;5;124mhydrogen\u001b[39m\u001b[38;5;124m'\u001b[39m][\u001b[38;5;124m'\u001b[39m\u001b[38;5;124mis_noble_gas\u001b[39m\u001b[38;5;124m'\u001b[39m])\n\u001b[0;32m      2\u001b[0m \u001b[38;5;28;01mFalse\u001b[39;00m\n\u001b[0;32m      3\u001b[0m \u001b[38;5;28mprint\u001b[39m(elements[\u001b[38;5;124m'\u001b[39m\u001b[38;5;124mhelium\u001b[39m\u001b[38;5;124m'\u001b[39m][\u001b[38;5;124m'\u001b[39m\u001b[38;5;124mis_noble_gas\u001b[39m\u001b[38;5;124m'\u001b[39m])\n",
      "\u001b[1;31mNameError\u001b[0m: name 'elements' is not defined"
     ]
    }
   ],
   "source": [
    ">>> print(elements['hydrogen']['is_noble_gas'])\n",
    "False\n",
    ">>> print(elements['helium']['is_noble_gas'])\n",
    "True"
   ]
  },
  {
   "cell_type": "code",
   "execution_count": 58,
   "id": "4de45edf-98bd-4121-ae43-96ab6ada11c7",
   "metadata": {},
   "outputs": [
    {
     "name": "stdout",
     "output_type": "stream",
     "text": [
      "elements: {'hydrogen': {'number': 1, 'weight': 1.00794, 'symbol': 'H', 'is_noble_gas': False}, 'helium': {'number': 2, 'weight': 4.002602, 'symbol': 'He', 'is_noble_gas': True}}\n"
     ]
    }
   ],
   "source": [
    "elements = {'hydrogen': {'number': 1, 'weight': 1.00794, 'symbol': 'H'},\n",
    "            'helium': {'number': 2, 'weight': 4.002602, 'symbol': 'He'}}\n",
    "\n",
    "elements['hydrogen']['is_noble_gas'] = False\n",
    "elements['helium']['is_noble_gas'] = True\n",
    "\n",
    "print('elements:', elements)\n",
    "\n",
    "# todo: Add an 'is_noble_gas' entry to the hydrogen and helium dictionaries\n",
    "# hint: helium is a noble gas, hydrogen isn't"
   ]
  },
  {
   "cell_type": "markdown",
   "id": "72f7dc60-c6e3-4e8c-becc-38764c99a3a1",
   "metadata": {},
   "source": [
    "__Quiz: Conte Únicas Palavras__\n",
    "\n",
    "Sua tarefa para este quiz é encontrar o número de palavras únicas no texto. No editor de código abaixo, complete esses 3 passos para conseguir sua resposta.\n",
    "\n",
    "- Divida `verso` em uma lista de palavras. Dica: Você pode usar um método de string que você aprendeu nas aulas anteriores.\n",
    "- Converta a lista em uma estrutura de dados que removeria os elementos repetidos.\n",
    "- Printa o tamanho do container."
   ]
  },
  {
   "cell_type": "code",
   "execution_count": 63,
   "id": "ddb13f43-9b09-4321-90a2-e3f9944f998c",
   "metadata": {},
   "outputs": [
    {
     "name": "stdout",
     "output_type": "stream",
     "text": [
      "if you can keep your head when all about you are losing theirs and blaming it on you   if you can trust yourself when all men doubt you     but make allowance for their doubting too   if you can wait and not be tired by waiting      or being lied about  don’t deal in lies   or being hated  don’t give way to hating      and yet don’t look too good  nor talk too wise \n",
      "\n",
      "['if', 'you', 'can', 'keep', 'your', 'head', 'when', 'all', 'about', 'you', 'are', 'losing', 'theirs', 'and', 'blaming', 'it', 'on', 'you', 'if', 'you', 'can', 'trust', 'yourself', 'when', 'all', 'men', 'doubt', 'you', 'but', 'make', 'allowance', 'for', 'their', 'doubting', 'too', 'if', 'you', 'can', 'wait', 'and', 'not', 'be', 'tired', 'by', 'waiting', 'or', 'being', 'lied', 'about', 'don’t', 'deal', 'in', 'lies', 'or', 'being', 'hated', 'don’t', 'give', 'way', 'to', 'hating', 'and', 'yet', 'don’t', 'look', 'too', 'good', 'nor', 'talk', 'too', 'wise'] \n",
      "\n",
      "{'too', 'trust', 'yourself', 'doubting', 'nor', 'can', 'give', 'way', 'yet', 'keep', 'if', 'hating', 'and', 'don’t', 'talk', 'but', 'being', 'you', 'deal', 'not', 'hated', 'in', 'by', 'about', 'for', 'head', 'make', 'theirs', 'it', 'blaming', 'lied', 'good', 'wise', 'or', 'losing', 'men', 'are', 'wait', 'to', 'waiting', 'doubt', 'on', 'be', 'tired', 'look', 'allowance', 'your', 'all', 'their', 'lies', 'when'} \n",
      "\n",
      "51 \n",
      "\n"
     ]
    }
   ],
   "source": [
    "verso = \"if you can keep your head when all about you are losing theirs and blaming it on you   if you can trust yourself when all men doubt you     but make allowance for their doubting too   if you can wait and not be tired by waiting      or being lied about  don’t deal in lies   or being hated  don’t give way to hating      and yet don’t look too good  nor talk too wise\"\n",
    "print(verso, '\\n')\n",
    "\n",
    "# split verse into list of words\n",
    "verso_list = verso.split()\n",
    "print(verso_list, '\\n')\n",
    "\n",
    "# convert list to a data structure that stores unique elements\n",
    "verso_set = set(verso_list)\n",
    "print(verso_set, '\\n')\n",
    "\n",
    "# print the number of unique words\n",
    "num_unique = len(verso_set)\n",
    "print(num_unique, '\\n')"
   ]
  },
  {
   "cell_type": "markdown",
   "id": "82964e0a-14ce-454d-9410-e5227f4f701d",
   "metadata": {},
   "source": [
    "__Quiz: Dicionário de Versos__\n",
    "\n",
    "No editor de código abaixo, você encontrará um dicionário contendo as palavras únicas do `verso` armazenadas como chaves e o número de vezes que aparecem no verso armazenado como valores. Use este dicionário para responder às seguintes perguntas. Envie essas respostas no questionário abaixo do editor de código.\n",
    "\n",
    "Tente respondê-las usando código, ao invés de inspecionar o dicionário manualmente!\n",
    "\n",
    "__1.__ Quantas palavras únicas existem em `verse_dict`?<br>\n",
    "__2.__ A chave é \"breathe\" está em `verse_dict`?<br>\n",
    "__3.__ Qual é o _primeiro elemento_ na lista criada quando `verse_dict` é classificado por chaves?<br> __Dica:__ Use o método de dicionário apropriado para obter uma lista de suas chaves e, em seguida, classifique essa lista. Use esta lista de chaves para responder também às próximas duas perguntas.<br>\n",
    "__5.__ Qual chave (palavra) tem o valor mais alto em `verse_dict`?"
   ]
  },
  {
   "cell_type": "code",
   "execution_count": 79,
   "id": "aa05b3c0-d3b4-4149-81a2-441bd84ad730",
   "metadata": {},
   "outputs": [
    {
     "name": "stdout",
     "output_type": "stream",
     "text": [
      "{'if': 3, 'you': 6, 'can': 3, 'keep': 1, 'your': 1, 'head': 1, 'when': 2, 'all': 2, 'about': 2, 'are': 1, 'losing': 1, 'theirs': 1, 'and': 3, 'blaming': 1, 'it': 1, 'on': 1, 'trust': 1, 'yourself': 1, 'men': 1, 'doubt': 1, 'but': 1, 'make': 1, 'allowance': 1, 'for': 1, 'their': 1, 'doubting': 1, 'too': 3, 'wait': 1, 'not': 1, 'be': 1, 'tired': 1, 'by': 1, 'waiting': 1, 'or': 2, 'being': 2, 'lied': 1, \"don't\": 3, 'deal': 1, 'in': 1, 'lies': 1, 'hated': 1, 'give': 1, 'way': 1, 'to': 1, 'hating': 1, 'yet': 1, 'look': 1, 'good': 1, 'nor': 1, 'talk': 1, 'wise': 1} \n",
      "\n",
      "51\n",
      "False\n",
      "['about', 'all', 'allowance', 'and', 'are', 'be', 'being', 'blaming', 'but', 'by', 'can', 'deal', \"don't\", 'doubt', 'doubting', 'for', 'give', 'good', 'hated', 'hating', 'head', 'if', 'in', 'it', 'keep', 'lied', 'lies', 'look', 'losing', 'make', 'men', 'nor', 'not', 'on', 'or', 'talk', 'their', 'theirs', 'tired', 'to', 'too', 'trust', 'wait', 'waiting', 'way', 'when', 'wise', 'yet', 'you', 'your', 'yourself']\n",
      "about\n",
      "yourself\n"
     ]
    }
   ],
   "source": [
    "verse_dict =  {'if': 3, 'you': 6, 'can': 3, 'keep': 1, 'your': 1, 'head': 1, 'when': 2, 'all': 2, 'about': 2, 'are': 1,\n",
    "               'losing': 1, 'theirs': 1, 'and': 3, 'blaming': 1, 'it': 1, 'on': 1, 'trust': 1, 'yourself': 1, 'men': 1,\n",
    "               'doubt': 1, 'but': 1, 'make': 1, 'allowance': 1, 'for': 1, 'their': 1, 'doubting': 1, 'too': 3, 'wait': 1,\n",
    "               'not': 1, 'be': 1, 'tired': 1, 'by': 1, 'waiting': 1, 'or': 2, 'being': 2, 'lied': 1, 'don\\'t': 3, 'deal': 1,\n",
    "               'in': 1, 'lies': 1, 'hated': 1, 'give': 1, 'way': 1, 'to': 1, 'hating': 1, 'yet': 1, 'look': 1, 'good': 1,\n",
    "               'nor': 1, 'talk': 1, 'wise': 1}\n",
    "print(verse_dict, '\\n')\n",
    "\n",
    "# find number of unique keys in the dictionary\n",
    "num_keys = len(set(verse_dict))\n",
    "print(num_keys)\n",
    "\n",
    "# find whether 'breathe' is a key in the dictionary\n",
    "contains_breathe = 'breathe' in verse_dict\n",
    "print(contains_breathe)\n",
    "\n",
    "# create and sort a list of the dictionary's keys\n",
    "sorted_keys = sorted(verse_dict.keys())\n",
    "print(sorted_keys)\n",
    "\n",
    "# get the first element in the sorted list of keys\n",
    "print(sorted_keys[0])\n",
    "\n",
    "# find the element with the highest value in the list of keys\n",
    "print(sorted_keys[-1]) "
   ]
  },
  {
   "attachments": {
    "ec7a3b1a-c029-4281-9546-e62581ca073a.png": {
     "image/png": "[encoded data removed]"
    }
   },
   "cell_type": "markdown",
   "id": "8c7efe49-a908-44a2-82df-c49d4fb02891",
   "metadata": {},
   "source": [
    "![image.png](attachment:ec7a3b1a-c029-4281-9546-e62581ca073a.png)"
   ]
  },
  {
   "cell_type": "code",
   "execution_count": 80,
   "id": "51ed1859-1ebf-422d-a34d-e30fc44a684b",
   "metadata": {},
   "outputs": [
    {
     "name": "stdout",
     "output_type": "stream",
     "text": [
      "['sódio', 'hidrogênio', 'hélio']\n",
      "[1, 2, 3]\n"
     ]
    }
   ],
   "source": [
    "elementos = {'sódio': 1, 'hidrogênio': 2, 'hélio': 3}\n",
    "chaves_elementos = elementos.keys()\n",
    "print(list(chaves_elementos))\n",
    "valores_elementos = elementos.values()\n",
    "print(list(valores_elementos))"
   ]
  },
  {
   "cell_type": "code",
   "execution_count": null,
   "id": "9abeffdd-c759-45d1-9f4d-c4ceb6bec6ee",
   "metadata": {},
   "outputs": [],
   "source": []
  }
 ],
 "metadata": {
  "kernelspec": {
   "display_name": "Python 3 (ipykernel)",
   "language": "python",
   "name": "python3"
  },
  "language_info": {
   "codemirror_mode": {
    "name": "ipython",
    "version": 3
   },
   "file_extension": ".py",
   "mimetype": "text/x-python",
   "name": "python",
   "nbconvert_exporter": "python",
   "pygments_lexer": "ipython3",
   "version": "3.11.1"
  },
  "toc-showtags": false
 },
 "nbformat": 4,
 "nbformat_minor": 5
}
