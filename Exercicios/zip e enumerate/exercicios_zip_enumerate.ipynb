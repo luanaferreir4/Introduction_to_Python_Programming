{
 "cells": [
  {
   "cell_type": "code",
   "execution_count": 5,
   "id": "8660aecd-775e-4000-b273-9114fc59c8a0",
   "metadata": {},
   "outputs": [
    {
     "name": "stdout",
     "output_type": "stream",
     "text": [
      "F: 23, 677, 4\n",
      "J: 53, 233, 16\n",
      "A: 2, 405, -6\n",
      "Q: -12, 433, -42\n",
      "Y: 95, 905, 3\n",
      "B: 103, 376, -6\n",
      "W: 14, 432, 23\n",
      "X: -5, 445, -1\n"
     ]
    }
   ],
   "source": [
    "x_coord = [23, 53, 2, -12, 95, 103, 14, -5]\n",
    "y_coord = [677, 233, 405, 433, 905, 376, 432, 445]\n",
    "z_coord = [4, 16, -6, -42, 3, -6, 23, -1]\n",
    "labels = [\"F\", \"J\", \"A\", \"Q\", \"Y\", \"B\", \"W\", \"X\"]\n",
    "\n",
    "points = []\n",
    "\n",
    "for labels, x_coord, y_coord, z_coord in zip(labels, x_coord, y_coord, z_coord):\n",
    "    points.append('{}: {}, {}, {}'.format(labels, x_coord, y_coord, z_coord))\n",
    "    \n",
    "for point in points:\n",
    "    print(point)"
   ]
  },
  {
   "cell_type": "code",
   "execution_count": 8,
   "id": "9d530938-8589-4d0b-9920-195b20b1dc40",
   "metadata": {},
   "outputs": [
    {
     "name": "stdout",
     "output_type": "stream",
     "text": [
      "{'Barney': 72, 'Robin': 68, 'Ted': 72, 'Lily': 66, 'Marshall': 76}\n"
     ]
    }
   ],
   "source": [
    "cast_names = [\"Barney\", \"Robin\", \"Ted\", \"Lily\", \"Marshall\"]\n",
    "cast_heights = [72, 68, 72, 66, 76]\n",
    "\n",
    "cast = dict(zip(cast_names, cast_heights))\n",
    "print(cast)"
   ]
  },
  {
   "cell_type": "code",
   "execution_count": 14,
   "id": "ca281455-436d-4b77-a037-dbbd808a986f",
   "metadata": {},
   "outputs": [
    {
     "name": "stdout",
     "output_type": "stream",
     "text": [
      "('Barney', 'Robin', 'Ted', 'Lily', 'Marshall')\n",
      "(72, 68, 72, 66, 76)\n"
     ]
    }
   ],
   "source": [
    "cast = ((\"Barney\", 72), (\"Robin\", 68), (\"Ted\", 72), (\"Lily\", 66), (\"Marshall\", 76))\n",
    "\n",
    "names, heights = zip(*cast)\n",
    "print(names)\n",
    "print(heights)"
   ]
  },
  {
   "cell_type": "code",
   "execution_count": 16,
   "id": "5b94e531-8196-459e-804b-5bd8218ad808",
   "metadata": {},
   "outputs": [
    {
     "name": "stdout",
     "output_type": "stream",
     "text": [
      "((0, 3, 6, 9), (1, 4, 7, 10), (2, 5, 8, 11))\n"
     ]
    }
   ],
   "source": [
    "data = ((0, 1, 2), (3, 4, 5), (6, 7, 8), (9, 10, 11))\n",
    "\n",
    "data_transpose = tuple(zip(*data))\n",
    "\n",
    "print(data_transpose)"
   ]
  },
  {
   "cell_type": "code",
   "execution_count": 24,
   "id": "f1563b92-7fa7-44df-9532-0050777ee0ed",
   "metadata": {},
   "outputs": [
    {
     "name": "stdout",
     "output_type": "stream",
     "text": [
      "['Barney Stinson 72', 'Robin Scherbatsky 68', 'Ted Mosby 72', 'Lily Aldrin 66', 'Marshall Eriksen 76']\n"
     ]
    }
   ],
   "source": [
    "cast = [\"Barney Stinson\", \"Robin Scherbatsky\", \"Ted Mosby\", \"Lily Aldrin\", \"Marshall Eriksen\"]\n",
    "heights = [72, 68, 72, 66, 76]\n",
    "\n",
    "for i, c in enumerate(cast):\n",
    "    cast[i] = c + ' ' + str(heights[i])\n",
    "    \n",
    "print(cast)"
   ]
  },
  {
   "cell_type": "code",
   "execution_count": null,
   "id": "7fcc5efd-f24c-46ab-85da-5b093f66e030",
   "metadata": {},
   "outputs": [],
   "source": []
  }
 ],
 "metadata": {
  "kernelspec": {
   "display_name": "Python 3 (ipykernel)",
   "language": "python",
   "name": "python3"
  },
  "language_info": {
   "codemirror_mode": {
    "name": "ipython",
    "version": 3
   },
   "file_extension": ".py",
   "mimetype": "text/x-python",
   "name": "python",
   "nbconvert_exporter": "python",
   "pygments_lexer": "ipython3",
   "version": "3.11.1"
  }
 },
 "nbformat": 4,
 "nbformat_minor": 5
}
